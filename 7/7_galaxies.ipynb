{
 "cells": [
  {
   "cell_type": "markdown",
   "metadata": {
    "vscode": {
     "languageId": "plaintext"
    }
   },
   "source": [
    "### **Практикум 7. Галактики**\n",
    "\n",
    "Практикум выполнен на основе материалов практического занятия\\\n",
    "в рамках ЛКШ, разработанного [Александром Нежиным](https://github.com/ZAKOVYIKA) и [Александром Ломакиным](https://github.com/teimy).\n",
    "\n",
    "#### **О чем этот практикум?**\n",
    "\n",
    "В рамках этого практикума мы будем работать с данными галактики [M59](https://ru.wikipedia.org/wiki/M_59_(%D0%B3%D0%B0%D0%BB%D0%B0%D0%BA%D1%82%D0%B8%D0%BA%D0%B0)),\\\n",
    "яркого примера эллиптической галактики. Одним из важнейших параметров галактики является её масса,\\\n",
    "и сегодня (и на следующей неделе) мы попробуем её оценить по наблюдаемым данным.\n",
    "\n",
    "**На практикуме мы**:\n",
    "1. Оценим угловые размеры эллиптической галактики фитированием.\n",
    "2. Найдем профиль поверхностной яркости и фитируем его эмпирической моделью.\n",
    "3. Оценим распределение дисперсии скоростей в галактике.\n",
    "4. По полученным данным выведем зависимость массы от наблюдаемых параметров.\n",
    "5. По полученным модельным зависимостям получим оценку на массу."
   ]
  },
  {
   "cell_type": "markdown",
   "metadata": {},
   "source": [
    "#### **Перед тем как начать.**\n",
    "\n",
    "Убедимся, что все модули, которые нам нужны, установлены и работают как надо.\n",
    "\n",
    "Если это не так, установите недостающие модули или обратитесь к преподавателю."
   ]
  },
  {
   "cell_type": "code",
   "execution_count": null,
   "metadata": {},
   "outputs": [],
   "source": [
    "import numpy as np\n",
    "\n",
    "import matplotlib.pyplot as plt\n",
    "from matplotlib.colors import LogNorm, SymLogNorm\n",
    "from matplotlib.patches import Ellipse\n",
    "\n",
    "from astropy.io import fits\n",
    "from astropy.wcs import WCS\n",
    "from astropy import units as u\n",
    "\n",
    "import pandas as pd\n",
    "\n",
    "from scipy.integrate import quad\n",
    "from scipy.optimize import minimize, curve_fit"
   ]
  },
  {
   "cell_type": "markdown",
   "metadata": {},
   "source": [
    "#### **Часть 0. Читаем данные.**\n",
    "\n",
    "В нашем анализе будут использоваться **два набора** данных:\n",
    "- fits-файл с изображением галактики в оптике;\n",
    "- txt-файл с дисперсией радиальных скоростей по спектральным данным.\n",
    "\n",
    "**FITS-файл** содержит 2-D массив с числом отсчетов и заголовок с мета-данными.\n",
    "\n",
    "К содержанию файла с дисперсиями радиальных скоростей мы вернемся позже."
   ]
  },
  {
   "cell_type": "code",
   "execution_count": null,
   "metadata": {},
   "outputs": [],
   "source": [
    "filename = './data/M59/M59.fits'\n",
    "data = fits.getdata(filename)\n",
    "header = fits.getheader(filename)"
   ]
  },
  {
   "cell_type": "markdown",
   "metadata": {},
   "source": [
    "data -- 2-D массив размера (313, 313), в котором хранятся данные о числе отсчетов\\\n",
    "зарегистрированных с конкретного направления.\n",
    "\n",
    "header -- именованный массив различных мета-данных об объекте, формате данных и т.д."
   ]
  },
  {
   "cell_type": "code",
   "execution_count": null,
   "metadata": {},
   "outputs": [],
   "source": [
    "plt.close()\n",
    "plt.figure(figsize=(14, 11))\n",
    "\n",
    "plt.imshow(data, origin='lower') # функция для рисования изображений по массивам\n",
    "                                 # origin='lower' помещает точку (0,0) в левый нижний угол\n",
    "plt.colorbar()\n",
    "\n",
    "plt.show()"
   ]
  },
  {
   "cell_type": "markdown",
   "metadata": {},
   "source": [
    "Просмотреть содержимое header можно прописав через отображение Jupyter-notebook, указав переменную\\\n",
    "типа header в конце ячейки кода."
   ]
  },
  {
   "cell_type": "code",
   "execution_count": null,
   "metadata": {},
   "outputs": [],
   "source": [
    "header"
   ]
  },
  {
   "cell_type": "markdown",
   "metadata": {},
   "source": [
    "Обращение к отдельным значениям происходит по ключевым словам вместо индексов:"
   ]
  },
  {
   "cell_type": "code",
   "execution_count": null,
   "metadata": {},
   "outputs": [],
   "source": [
    "header['TELESCOP']"
   ]
  },
  {
   "cell_type": "markdown",
   "metadata": {},
   "source": [
    "#### **Часть 1. Первичная обработка изображения.**\n",
    "\n",
    "В этой части мы попробуем получить базовые данные о наблюдаемых свойствах\\\n",
    "галактики, используя только данное изображение M59.\n",
    "\n",
    "> *__Задание 1.0. Строим картинку.__*\\\n",
    "Для начала еще раз построим изображение нашего наблюдения, но уже\\\n",
    "в логарифмическом масштабе.\n",
    "\n",
    "Для этого используем `plt.imshow` с дополнительным аргументов `norm=LogNorm()`,\\\n",
    "`LogNorm()` -- функция, которую мы импортировали из `matplotlib` ранее.\n",
    "\n",
    "<details>\n",
    "<summary><b>\n",
    ">>> Вариант решения (кликни, чтобы раскрыть) <<<\n",
    "</summary></b>\n",
    "\n",
    "```python\n",
    "plt.close()\n",
    "\n",
    "plt.imshow(data, origin='lower', norm=LogNorm())\n",
    "plt.colorbar()\n",
    "\n",
    "plt.show()\n",
    "```\n",
    "\n",
    "</details>\n"
   ]
  },
  {
   "cell_type": "code",
   "execution_count": null,
   "metadata": {},
   "outputs": [],
   "source": [
    "# =======================================\n",
    "# МЕСТО ДЛЯ ВАШЕГО КОДА\n",
    "\n",
    "\n"
   ]
  },
  {
   "cell_type": "markdown",
   "metadata": {},
   "source": [
    "> *__Задание 1.1. Ищем максимум.__*\\\n",
    "Максимум излучения на изображении, как хорошо видно, приходится на центр\\\n",
    "эллиптической галактики. Напишите код, который определяет положение точки\\\n",
    "с максимальным числом отсчетов в нашем массиве.\\\n",
    "**Запишите** их в переменные `x_center` и `y_center`.\\\n",
    "**Нарисуйте** положение этого центра на графике для самопроверки.\n",
    "\n",
    "Подсказка:\\\n",
    "Попробуйте воспользоваться функциями типа `np.argmax`, `np.max` \n",
    "\n",
    "<details>\n",
    "<summary>\n",
    "<b> >>> Вариант решения <<<</b>\n",
    "</summary>\n",
    "\n",
    "```python Решение\n",
    "    x_center = data.argmax() % data.shape[1]\n",
    "    y_center = data.argmax() // data.shape[0]\n",
    "```\n",
    "\n",
    "</details>"
   ]
  },
  {
   "cell_type": "code",
   "execution_count": null,
   "metadata": {},
   "outputs": [],
   "source": [
    "# =======================================\n",
    "# МЕСТО ДЛЯ ВАШЕГО КОДА\n",
    "\n"
   ]
  },
  {
   "cell_type": "markdown",
   "metadata": {},
   "source": [
    "<details>\n",
    "<summary>\n",
    "<b> >>> Вариант решения <<<</b>\n",
    "</summary>\n",
    "\n",
    "```python Решение\n",
    "    plt.close()\n",
    "\n",
    "    plt.imshow(data, origin='lower', norm=LogNorm())\n",
    "    plt.scatter(x_center, y_center, color='black')\n",
    "\n",
    "    plt.show()\n",
    "```\n",
    "\n",
    "</details>"
   ]
  },
  {
   "cell_type": "code",
   "execution_count": null,
   "metadata": {},
   "outputs": [],
   "source": [
    "# =======================================\n",
    "# МЕСТО ДЛЯ ВАШЕГО КОДА ДЛЯ ГРАФИКА\n",
    "\n",
    "\n"
   ]
  },
  {
   "cell_type": "markdown",
   "metadata": {},
   "source": [
    "В рамках этого практикума мы будем описывать форму наблюдаемой эллиптической\\\n",
    "галактики эллипсом (sic!).\n",
    "\n",
    "Для простоты отображения будем использовать специально написанную функцию `draw_ellipse()`.\\\n",
    "Она **принимает**:\\\n",
    "`x_center`, `y_center` - координаты центра эллипса\\\n",
    "`a`, `b` - полуоси эллипса\\\n",
    "`angle` - угол поворота эллипса **в градусах**."
   ]
  },
  {
   "cell_type": "code",
   "execution_count": null,
   "metadata": {},
   "outputs": [],
   "source": [
    "def draw_ellipse(x_center, y_center, a, b, angle):\n",
    "    width, height = a*2, b*2\n",
    "    plt.scatter(x_center, y_center, c='black')\n",
    "    plt.gca().add_patch(Ellipse((x_center, y_center), width=width, height=height, angle=angle, facecolor='None', edgecolor='black'))\n",
    "    plt.gca().add_patch(Ellipse((x_center, y_center), width=width, height=0, angle=angle, facecolor='None', edgecolor='black', alpha=0.5))\n",
    "    plt.gca().add_patch(Ellipse((x_center, y_center), width=0, height=height, angle=angle, facecolor='None', edgecolor='black', alpha=0.5))"
   ]
  },
  {
   "cell_type": "markdown",
   "metadata": {},
   "source": [
    "> **_Интерлюдия 1._**\\\n",
    "В коде ниже в явном виде заданы все параметры функции `draw_ellipse()`.\\\n",
    "Я предлагаю с ними поиграться и разобраться, что за что отвечает."
   ]
  },
  {
   "cell_type": "code",
   "execution_count": null,
   "metadata": {},
   "outputs": [],
   "source": [
    "plt.close()\n",
    "\n",
    "draw_ellipse(x_center=10, y_center=10, a=5, b=10, angle=0)\n",
    "plt.xlim(0, 20)\n",
    "plt.ylim(0, 20)\n",
    "\n",
    "plt.show()"
   ]
  },
  {
   "cell_type": "markdown",
   "metadata": {},
   "source": [
    "> **_Задание 1.2. Фитируем на глазок._**\\\n",
    "Постройте изображение галактики и эллипс в одних осях.\\\n",
    "Подберите параметры эллипса `a`, `b` и `angle`, которые будут\\\n",
    "(на глаз), неплохо описывать границы галактики.\n",
    "\n",
    "Не переусердствуйте, эти значения будут использоваться только как\\\n",
    "нулевое приближение при дальнейшем фитировании.\n",
    "\n",
    "<details>\n",
    "<summary><b>\n",
    ">>> Вариант решения <<<\n",
    "</summary></b>\n",
    "\n",
    "```python\n",
    "\n",
    "plt.close()\n",
    "plt.figure(figsize=(14, 11))\n",
    "\n",
    "plt.imshow(data, origin='lower', norm=LogNorm())\n",
    "plt.colorbar()\n",
    "\n",
    "draw_ellipse(x_center, y_center, 30, 60, -15)\n",
    "\n",
    "\n",
    "plt.show()\n",
    "\n",
    "```\n",
    "</details>"
   ]
  },
  {
   "cell_type": "code",
   "execution_count": null,
   "metadata": {},
   "outputs": [],
   "source": [
    "# =======================================\n",
    "# МЕСТО ДЛЯ ВАШЕГО КОДА\n",
    "\n"
   ]
  },
  {
   "cell_type": "markdown",
   "metadata": {},
   "source": [
    "#### **Часть 2. Фитирование эллипса.**\n",
    "\n",
    "В этом разделе мы попробуем оптимизировать поиск параметров эллипса,\\\n",
    "который наилучшим образом опишет наши данные.\n",
    "\n",
    "**Что сделаем**:\n",
    "1. Определим условие для поиска границ эллипса.\n",
    "2. Зададим метрику соответствия эллипса и данных.\n",
    "3. Напишем функцию для фитирования.\n",
    "4. Получим оптимальные параметры эллипса"
   ]
  },
  {
   "cell_type": "markdown",
   "metadata": {},
   "source": [
    "В наших данных на изображении присутствуют две ключевые компоненты:\\\n",
    "излучение от галактики и фон от неба. Излучение от галактики маскимально\\\n",
    "в центре и постепенно убывает к краям, пока не станет совсем незначительным\\\n",
    "по сравнению с фоном от неба.\n",
    "\n",
    "В таком случае, мы можем для нашей картинки подобрать такой диапазон значений\\\n",
    "числа отсчетов в каждом пикселе, при котором мы будем видеть только пограничную область:\\\n",
    "больше, чем излучение от неба, но меньше, чем излучение центральной области галактики.\n",
    "\n",
    "Оценку границ этой области удобно при помощи гистограммы числа отсчетов в нашем изображении.\n",
    "\n",
    "> **_Задание 2.0_**\\\n",
    "Подберите такие значения границ `bor_min` и `bor_max` , которые лежат выше основного пика фона,\\\n",
    "но ниже большей части хвоста распределения, ответственного за излучение галактики.\n",
    "\n",
    "Обратите внимание, что в коде ниже есть переменная `header[\"SKY\"]`, так в мета-данных помещена\\\n",
    "оценка числа отсчетов, пришедших с неба. Сейчас это нам не нужно, но пригодится позже.\n",
    "\n",
    "<details>\n",
    "<summary><b>\n",
    ">>> Вариант решения <<<\n",
    "</summary></b>\n",
    "\n",
    "Я использовал значения\n",
    "\n",
    "```python\n",
    "bor_min = 150\n",
    "bor_max = 170\n",
    "```\n",
    "\n",
    "но в рамках этого задания приемлемый диапазон может варьироваться\n",
    "\n",
    "</details>"
   ]
  },
  {
   "cell_type": "code",
   "execution_count": null,
   "metadata": {},
   "outputs": [],
   "source": [
    "# =======================================\n",
    "# Место для ваших значений\n",
    "\n",
    "bor_min = 10\n",
    "bor_max = 20\n",
    "\n",
    "# =======================================\n",
    "\n",
    "bins = np.geomspace(10, data.max(), 200)\n",
    "\n",
    "plt.close()\n",
    "plt.figure(figsize=(10, 8))\n",
    "\n",
    "plt.hist(data.flatten(), bins=bins, histtype='stepfilled')\n",
    "plt.vlines(header['SKY'], 0, 1e4, colors='tab:red', label='SKY estimation')\n",
    "\n",
    "plt.fill_betweenx(np.array([0, 1e4]), bor_min, bor_max, color='tab:green', alpha=0.1)\n",
    "plt.vlines([bor_min, bor_max], 0, 1e4, color='tab:green')\n",
    "\n",
    "plt.xscale('log')\n",
    "plt.yscale('log')\n",
    "\n",
    "plt.ylabel('Number of pixels', fontdict={'size':14})\n",
    "plt.xlabel('Counts in pixel', fontdict={'size':14})\n",
    "\n",
    "plt.show()"
   ]
  },
  {
   "cell_type": "markdown",
   "metadata": {},
   "source": [
    "> **_Интерлюдия 2. Парни, шо мы надрафтили_**\\\n",
    "Провалидируем, что наш диапазон значений возвращает точки, которые нам подходят.\\\n",
    "Построим в одних осях изображение наших данных **с вычтенным фоном** и точки,\\\n",
    "которые мы классифицируем как границы.\\\n",
    "Я предлагаю разобраться, что делает первая строчка в этой ячейке."
   ]
  },
  {
   "cell_type": "code",
   "execution_count": null,
   "metadata": {},
   "outputs": [],
   "source": [
    "y_border, x_border = np.where((data > bor_min) * (data < bor_max))\n",
    "\n",
    "plt.close()\n",
    "\n",
    "plt.figure(figsize=(12, 10))\n",
    "\n",
    "plt.imshow(data - header['SKY'], norm=SymLogNorm(1), origin='lower')\n",
    "plt.colorbar()\n",
    "\n",
    "plt.scatter(x_border, y_border, s=3, color='tab:red')\n",
    "\n",
    "\n",
    "plt.show()\n"
   ]
  },
  {
   "cell_type": "markdown",
   "metadata": {},
   "source": [
    "> *Задание 2.1. Изобретаем колесо (эллипс).*\\\n",
    "Напишите функцию, которая отражает, насколько хорошо массив\\\n",
    "точек описывается заданным уравнением эллипса.\n",
    "\n",
    "Функция **принимает**:\\\n",
    "x - массив координат точек по оси x\\\n",
    "y - массив координат точек по оси y\\\n",
    "x_center, y_center - координаты центра эллипса\\\n",
    "a, b - длины полуосей эллипса\\\n",
    "angle - угол поворота эллипса **в градусах**\n",
    "\n",
    "И **возвращает**:\\\n",
    "абсолютную метрику близости каждой точки к эллипсу.\n",
    "\n",
    "**Как это сделать?**\n",
    "1. Перевести градусы в радианы при помощи модуля `astropy.units`/\n",
    "Он уже импортирован в проект как `u`.\\\n",
    "Это делается при помощи синтаксиса `(my_number * u.some_unit).to(u.other_unit).value`\n",
    "2. Сдвинуть все точки в СО с нулем в центре эллипса `(x_center, y_center)`.\n",
    "3. Повернуть все точки на угол `angle` матрицей поворота.\n",
    "4. Вычислить близость к эллипсу по формуле:\\\n",
    "$\\rm\n",
    "Metric = (x_*^2 / a^2 + y_*^2/b^2) - 1\n",
    "$\\\n",
    "$x_*$ и $y_*$ -- положения точек после прошлых преобразований.\\\n",
    "Эта формула взята из стандартного уравнения эллипса и в идеальном\\\n",
    "случае должна возвращать 0.\n",
    "\n",
    "<details>\n",
    "<summary><b>\n",
    ">>> Вариант решения <<<\n",
    "</summary></b>\n",
    "\n",
    "```python\n",
    "def ellipse(x, y, x0, y0, a, b, angle):\n",
    "    angle = (angle * u.deg).to(u.rad).value\n",
    "    x_p = (x - x0)*np.cos(angle) + (y-y0)*np.sin(angle)\n",
    "    y_p = -(x - x0)*np.sin(angle) + (y-y0)*np.cos(angle)\n",
    "    \n",
    "    return (x_p**2/a**2 + y_p**2/b**2) - 1\n",
    "```\n",
    "\n",
    "</details>"
   ]
  },
  {
   "cell_type": "code",
   "execution_count": null,
   "metadata": {},
   "outputs": [],
   "source": [
    "# ==================================\n",
    "# МЕСТО ДЛЯ ВАШЕГО КОДА\n",
    "\n",
    "def ellipse(x, y, x0, y0, a, b, angle):\n",
    "    \n",
    "    \n",
    "    \n",
    "    return 0 # Это заглушка, чтобы интерпретатор не ругался, не оставляйте тут 0\n"
   ]
  },
  {
   "cell_type": "markdown",
   "metadata": {},
   "source": [
    "> **_Интерлюдия 3. Я точно все нормально делаю?_**\\\n",
    "Для самопроверки снова построим график с точками на границе, но в этот раз\\\n",
    "модифицируем его цвет при помощи аргумента `plt.scatter(..., c=ellipse(...), ...)`.\\\n",
    "Белым на графике отмечаются те точки, что наша функция считаем близкими к нулю,\\\n",
    "красным - те, что больше нуля, и синим - те, что меньше нуля.\\\n",
    "Я предлагаю проверить, что все рисуется так, как мы ожидаем, и что в коде выше не\\\n",
    "допущено никаких ошибок."
   ]
  },
  {
   "cell_type": "code",
   "execution_count": null,
   "metadata": {},
   "outputs": [],
   "source": [
    "# ============================================\n",
    "# Модифицируйте эти значения, чтобы поиграться и проверить, что все работает\n",
    "\n",
    "a, b, angle = 10, 100, -15\n",
    "\n",
    "# ============================================\n",
    "\n",
    "plt.close()\n",
    "\n",
    "plt.figure(figsize=(12, 10))\n",
    "\n",
    "plt.imshow(data - header['SKY'], norm=SymLogNorm(1), origin='lower')\n",
    "\n",
    "plt.scatter(x_border, y_border, s=3, c=ellipse(x_border, y_border, x_center, y_center, a, b, angle), cmap='seismic', vmax=1, vmin=-1)\n",
    "draw_ellipse(x_center, y_center, a, b, angle)\n",
    "\n",
    "plt.colorbar()\n",
    "\n",
    "\n",
    "plt.show()"
   ]
  },
  {
   "cell_type": "markdown",
   "metadata": {},
   "source": [
    "> **_Задание 2.2. Я ненавижу `scipy.optimize`_**\\\n",
    "Напишите функцию optim_func(), которая будет передаваться в\\\n",
    "функцию модуля `optimize.minimize` для решения задачи оптимизации.\n",
    "\n",
    "Первый аргумент функции **должен** быть списком минимизируемых параметров.\n",
    "Возвращать эта функция должна сумму абсолютных значений функции `ellipse`\\\n",
    "с параметрами, заданными в params и при помощи дополнительных аргументов.\n",
    "\n",
    "Дополнительные аргументы, которые нужно передать в функцию:\\\n",
    "`x_border`, `y_border`, `x_center`, `y_center`.\n",
    "\n",
    "<details>\n",
    "\n",
    "<summary><b>\n",
    ">>> Вариант решения <<<\n",
    "</summary></b>\n",
    "\n",
    "```python\n",
    "\n",
    "def optim_func(params, x_border, y_border, x_center, y_center):\n",
    "    a, b, angle = params\n",
    "\n",
    "    return np.sum(np.abs(ellipse(x_border, y_border, x_center, y_center, a, b, angle)))\n",
    "\n",
    "```\n",
    "\n",
    "</details>"
   ]
  },
  {
   "cell_type": "code",
   "execution_count": null,
   "metadata": {},
   "outputs": [],
   "source": [
    "# ==============================================================\n",
    "# МЕСТО ДЛЯ ВАШЕГО КОДА\n",
    "\n",
    "def optim_func(params, x_border, y_border, x_center, y_center):\n",
    "    \n",
    "\n",
    "    return 0"
   ]
  },
  {
   "cell_type": "markdown",
   "metadata": {},
   "source": [
    "> **_Интерлюдия 4. Вызываю огонь на себя_**\\\n",
    "В блоке кода ниже вам необходимо дописать вызов функции `minimize`.\\\n",
    "Я предлагаю попробовать это сделать самостоятельно, но не стесняйтесь\\\n",
    "скопировать решение под спойлером ниже, возиться с синтаксисом слишком долго не наша цель.\\\n",
    "Также проверьте, что картинка, которая получается, выглядит разумно.\n",
    "\n",
    "P.S. Имейте в виду, что эта реализация в коде точно будет работать только для моего же решения\\\n",
    "прошлого пункта \n",
    "\n",
    "<details>\n",
    "\n",
    "<summary><b>\n",
    ">>> Вариант решения <<<\n",
    "</summary></b>\n",
    "\n",
    "```python\n",
    "\n",
    "opt_a, opt_b, opt_angle = minimize(optim_func, [a, b, angle], args=(x_border, y_border, x_center, y_center)).x\n",
    "\n",
    "```\n",
    "\n",
    "</details>"
   ]
  },
  {
   "cell_type": "code",
   "execution_count": null,
   "metadata": {},
   "outputs": [],
   "source": [
    "# =============================================================\n",
    "# МЕСТО ДЛЯ ВАШЕГО КОДА\n",
    "\n",
    "\n",
    "\n",
    "# =============================================================\n",
    "\n",
    "plt.close()\n",
    "\n",
    "plt.figure(figsize=(12, 10))\n",
    "\n",
    "plt.imshow(data - header['SKY'], norm=SymLogNorm(1), origin='lower')\n",
    "# draw_ellipse(x_center, y_center, width, height, angle)\n",
    "plt.scatter(x_border, y_border, s=3, c=ellipse(x_border, y_border, x_center, y_center, opt_a, opt_b, opt_angle), cmap='seismic', vmax=1, vmin=-1)\n",
    "# draw_ellipse(x_center, y_center, width, height, angle)\n",
    "draw_ellipse(x_center, y_center, opt_a, opt_b, opt_angle)\n",
    "\n",
    "plt.colorbar()\n",
    "\n",
    "plt.legend(['Border points', 'Center', f'ELLIPSE:\\n a={opt_a:.1f}\\n b={opt_b:.1f}\\n angle={opt_angle:.1f}'])\n",
    "\n",
    "plt.show()"
   ]
  },
  {
   "cell_type": "markdown",
   "metadata": {},
   "source": [
    "> **_Задание 2.3. Промежуточный научный результат._**\\\n",
    "Для подведения итога к этой части практикума получим один физический результат.\\\n",
    "В 1926 году Эдвин Хаббл (тот [самый](https://ru.wikipedia.org/wiki/%D0%A5%D0%B0%D0%B1%D0%B1%D0%BB,_%D0%AD%D0%B4%D0%B2%D0%B8%D0%BD)) предложил [систему классификации](https://ru.wikipedia.org/wiki/%D0%9C%D0%BE%D1%80%D1%84%D0%BE%D0%BB%D0%BE%D0%B3%D0%B8%D1%87%D0%B5%D1%81%D0%BA%D0%B0%D1%8F_%D0%BA%D0%BB%D0%B0%D1%81%D1%81%D0%B8%D1%84%D0%B8%D0%BA%D0%B0%D1%86%D0%B8%D1%8F_%D0%B3%D0%B0%D0%BB%D0%B0%D0%BA%D1%82%D0%B8%D0%BA#%D0%9A%D0%BB%D0%B0%D1%81%D1%81%D0%B8%D1%84%D0%B8%D0%BA%D0%B0%D1%86%D0%B8%D1%8F_%D0%A5%D0%B0%D0%B1%D0%B1%D0%BB%D0%B0) галактик\\\n",
    "на эллиптические, линзовидные, спиральные и неправильные.\\\n",
    "В рамках этого задания вам необходимо вычислить показатель эллиптичности нашей галактики\\\n",
    "по оценке размеров её полуосей и сделать вывод о её классе.\n",
    "\n",
    "**Эллиптичность** галактики вычисляется по формуле:\n",
    "\n",
    "$N = 10\\times(1 - b/a)$\n",
    "\n",
    ", где `a`,`b` - большая и малая полуоси соответственно.\\\n",
    "Обратите внимание, что в нашем случае большая полуось может быть записана в переменную b и наоборот.\n",
    "\n",
    "Классификация эллиптической галактики имеет вид E0-E7, где число - это показатель эллиптичности,\\\n",
    "округленный вниз.\n",
    "\n",
    "<details>\n",
    "<summary><b>\n",
    ">>> Вариант решения <<<\n",
    "</summary></b>\n",
    "\n",
    "```\n",
    "print(10 * (1 - min(opt_a, opt_b) / max(opt_a, opt_b)))\n",
    "```\n",
    "\n",
    "В литературе я встретил разброс классификаций от E3 до E7, но наиболее свежие\\\n",
    "статьи все-таки указывают на **E3-E5**.\n",
    "\n",
    "</details>"
   ]
  },
  {
   "cell_type": "code",
   "execution_count": null,
   "metadata": {},
   "outputs": [],
   "source": [
    "# =============================================\n",
    "# МЕСТО ДЛЯ ВАШЕГО КОДА\n",
    "\n"
   ]
  },
  {
   "cell_type": "markdown",
   "metadata": {},
   "source": [
    "#### **_Часть 3. Радиальный профиль и профиль Серсика._**\n",
    "Для дальнейшей работы нам хочется описать наблюдаемые данные какой-то\\\n",
    "аналитической функцией, чтобы потом выполнить немного зубодробительного интегрирования.\n",
    "\n",
    "Объект нашего анализа этого раздела - радиальный профиль излучения галактики и его описание\\\n",
    "феноменологической моделью Серсика.\n",
    "\n",
    "Для получения оценки на параметры этой модели применимо к нашим данным **нам нужно**:\n",
    "1. Ограничить область для извлечения радиального профиля.\n",
    "2. Удалить влияние фона из оставшихся данных.\n",
    "3. Получить радиальный профиль.\n",
    "4. Фитировать его известной моделью.\n",
    "\n",
    "Для начала создадим копию массива с данными для дальнейшей модификации."
   ]
  },
  {
   "cell_type": "code",
   "execution_count": null,
   "metadata": {},
   "outputs": [],
   "source": [
    "data_filtered = data.copy().astype(float)"
   ]
  },
  {
   "cell_type": "markdown",
   "metadata": {},
   "source": [
    "> **_Задание 3.0. Фильтруем фон._**\n",
    "В этом задании вам необходимо:\n",
    "1. Создать двумерный массив координат каждого пикселя X, Y при помощи [`np.meshgrid`](https://numpy.org/doc/stable/reference/generated/numpy.meshgrid.html)\n",
    "2. Написать при помощи функции `ellipse` условие на нахождение точки вне эллипса.\n",
    "3. Заполнить все элементы массива `data_filtered` вне эллипса значениями `np.nan`\n",
    "\n",
    "<details>\n",
    "<summary><b>\n",
    ">>> Вариант решения <<<\n",
    "</summary></b>\n",
    "\n",
    "```python\n",
    "Y, X = np.meshgrid(np.arange(data.shape[0]), np.arange(data.shape[1]))\n",
    "\n",
    "mask_out_ellipse = ellipse(X, Y, x_center, y_center, opt_a, opt_b, opt_angle) > 1.\n",
    "\n",
    "data_filtered[mask_out_ellipse] = np.nan\n",
    "```\n",
    "\n",
    "В литературе я встретил разброс классификаций от E3 до E7, но наиболее свежие\\\n",
    "статьи все-таки указывают на **E3-E5**.\n",
    "\n",
    "</details>"
   ]
  },
  {
   "cell_type": "code",
   "execution_count": null,
   "metadata": {},
   "outputs": [],
   "source": [
    "# =============================================\n",
    "# МЕСТО ДЛЯ ВАШЕГО КОДА\n",
    "\n",
    "\n",
    "\n"
   ]
  },
  {
   "cell_type": "markdown",
   "metadata": {},
   "source": [
    "> **_Задание 3.1. Удаляем фон._**\\\n",
    "Теперь из каждого оставшегося элемента массива вычтем значение `header[\"SKY\"]`\n",
    "\n",
    "<details>\n",
    "<summary><b>\n",
    ">>> Вариант решения <<<\n",
    "</summary></b>\n",
    "\n",
    "```python\n",
    "data_filtered = data_filtered - header['SKY']\n",
    "```\n",
    "\n",
    "</details>"
   ]
  },
  {
   "cell_type": "code",
   "execution_count": null,
   "metadata": {},
   "outputs": [],
   "source": [
    "# =============================================\n",
    "# МЕСТО ДЛЯ ВАШЕГО КОДА\n",
    "\n"
   ]
  },
  {
   "cell_type": "markdown",
   "metadata": {},
   "source": [
    "Убедимся, что осталось то, что должно было."
   ]
  },
  {
   "cell_type": "code",
   "execution_count": null,
   "metadata": {},
   "outputs": [],
   "source": [
    "plt.close()\n",
    "plt.figure(figsize=(10, 10))\n",
    "\n",
    "plt.imshow(data_filtered, origin='lower', norm=LogNorm())\n",
    "\n",
    "plt.show()"
   ]
  },
  {
   "cell_type": "markdown",
   "metadata": {},
   "source": [
    "> **_Интерлюдия 5. Размерности важны._**\\\n",
    "В ячейке ниже инициализированы две переменные:\\\n",
    "`pix2arcsec` - переводной коэффициент из пикселей в угловые секунды (арксеки) для данных\\\n",
    "`distance` - массив, который каждому пикселю ставит в соответствие расстояние до него\\\n",
    "в арксеках от центра эллипса.\\\n",
    "Я предлагаю разобраться, как работает код, который позволяет получить расстояния."
   ]
  },
  {
   "cell_type": "code",
   "execution_count": null,
   "metadata": {},
   "outputs": [],
   "source": [
    "pix2arcsec = (header['CDELT2'] * u.deg).to(u.arcsec).value\n",
    "\n",
    "distance = ((X - x_center) ** 2 + (Y - y_center) ** 2) ** 0.5 * pix2arcsec"
   ]
  },
  {
   "cell_type": "markdown",
   "metadata": {},
   "source": [
    "Убедимся, что дистанции (помеченные черным контуром), вычисляются корректно."
   ]
  },
  {
   "cell_type": "code",
   "execution_count": null,
   "metadata": {},
   "outputs": [],
   "source": [
    "plt.close()\n",
    "plt.figure(figsize=(20, 10))\n",
    "\n",
    "plt.subplot(1, 2, 1)\n",
    "\n",
    "plt.imshow(data_filtered, origin='lower', norm=LogNorm())\n",
    "cont = plt.contour(distance, origin='lower', colors='black')\n",
    "plt.clabel(cont)\n",
    "\n",
    "plt.subplot(1, 2, 2)\n",
    "\n",
    "plt.scatter(distance, data_filtered, s=3)\n",
    "\n",
    "plt.xscale('log')\n",
    "plt.yscale('log')\n",
    "\n",
    "plt.xlabel('Distance, arcsec')\n",
    "plt.ylabel('Counts')\n",
    "\n",
    "plt.show()\n"
   ]
  },
  {
   "cell_type": "markdown",
   "metadata": {},
   "source": [
    "> **_Задание 3.2. Радиальный профиль._**\\\n",
    "Вам необходимо дополнить код внутри цикла для того,\\\n",
    "чтобы вычислить среднее значение и среднеквадратичное отклонение\\\n",
    "числа отсчетов в небольших кольцах вокруг центра эллипса.\n",
    "\n",
    "<details>\n",
    "<summary><b>\n",
    ">>> Вариант решения <<<\n",
    "</summary></b>\n",
    "\n",
    "```python\n",
    "distance_grid = np.geomspace(1, 100, 30)\n",
    "\n",
    "counts = np.zeros(len(distance_grid) - 1)\n",
    "counts_std = np.zeros(len(distance_grid) - 1)\n",
    "\n",
    "for idx in range(len(distance_grid)-1):\n",
    "\n",
    "#=============================================================\n",
    "# МЕСТО ДЛЯ ВАШЕГО КОДА\n",
    "    curr_data = data_filtered[(distance >= distance_grid[idx]/pix2arcsec) * (distance < distance_grid[idx+1]/pix2arcsec)]\n",
    "    counts[idx] = curr_data.mean() \n",
    "    counts_std[idx] = curr_data.std()\n",
    "\n",
    "#=============================================================\n",
    "distances = (distance_grid[1:] + distance_grid[:-1])/2\n",
    "\n",
    "distances = distances[~np.isnan(counts)]\n",
    "counts_std = counts_std[~np.isnan(counts)]\n",
    "counts = counts[~np.isnan(counts)]\n",
    "```\n",
    "\n",
    "</details>"
   ]
  },
  {
   "cell_type": "code",
   "execution_count": null,
   "metadata": {},
   "outputs": [],
   "source": [
    "distance_grid = np.geomspace(1, 90, 30)\n",
    "\n",
    "counts = np.zeros(len(distance_grid) - 1)\n",
    "counts_std = np.zeros(len(distance_grid) - 1)\n",
    "\n",
    "for idx in range(len(distance_grid)-1):\n",
    "\n",
    "#=============================================================\n",
    "# МЕСТО ДЛЯ ВАШЕГО КОДА\n",
    "\n",
    "\n",
    "\n",
    "\n",
    "#=============================================================\n",
    "distances = (distance_grid[1:] + distance_grid[:-1])/2\n",
    "\n",
    "distances = distances[~np.isnan(counts)]\n",
    "counts_std = counts_std[~np.isnan(counts)]\n",
    "counts = counts[~np.isnan(counts)]"
   ]
  },
  {
   "cell_type": "markdown",
   "metadata": {},
   "source": [
    "> **_Задание 3.3. Графики наше все._**\\\n",
    "Постройте график полученного радиального профиля с ошибками.\\\n",
    "Обратите внимание, что предыдущий график изображался в log-log масштабе.\n",
    "\n",
    "\n",
    "<details>\n",
    "<summary><b>\n",
    ">>> Вариант решения <<<\n",
    "</summary></b>\n",
    "\n",
    "```python\n",
    "\n",
    "plt.close()\n",
    "plt.figure(figsize=(10, 10))\n",
    "\n",
    "plt.scatter(distance, data_filtered, s=3, label='Raw points')\n",
    "plt.errorbar(distances, counts, counts_std, 0, color='black', fmt='.', label='Radial profile')\n",
    "\n",
    "plt.xscale('log')\n",
    "plt.yscale('log')\n",
    "\n",
    "plt.xlabel('Distance, arcsec')\n",
    "plt.ylabel('Counts')\n",
    "\n",
    "plt.legend()\n",
    "\n",
    "plt.show()\n",
    "```\n",
    "\n",
    "</details>"
   ]
  },
  {
   "cell_type": "code",
   "execution_count": null,
   "metadata": {},
   "outputs": [],
   "source": [
    "# =========================================\n",
    "# МЕСТО ДЛЯ ВАШЕГО КОДА\n",
    "\n",
    "\n"
   ]
  },
  {
   "cell_type": "markdown",
   "metadata": {},
   "source": [
    "> **_Интерлюдия 6. Снова проклятое фитирование._**\\\n",
    "В блоке кода ниже приведен феноменологический [профиль Серсика](https://en.wikipedia.org/wiki/S%C3%A9rsic_profile),\\\n",
    "которым фитируются радиальные профили. Мы не будем снова ковыряться с новой функцией для фита [`curve_fit`](https://docs.scipy.org/doc/scipy/reference/generated/scipy.optimize.curve_fit.html),\\\n",
    "но обратите внимание, что она отличается от ранее использованного `minimize`.\n",
    "\n",
    "Профиль Серсика содержит 3 свободных параметра, про которые можно подробнее почитать по ссылке выше."
   ]
  },
  {
   "cell_type": "code",
   "execution_count": null,
   "metadata": {},
   "outputs": [],
   "source": [
    "def sers(R, I_e, n, R_half):\n",
    "    return I_e * np.exp(-(2*n - 1./3 + 4./(405*n) + 46./(25515*n**2) + \\\n",
    "                          131./(1148175*n**3)- 2194697./(30690717750*n**4))*((R/R_half)**(1/n) - 1) )\n",
    "# наша функция Серсика\n",
    "\n",
    "kd, cov = curve_fit(sers, distances, counts, p0=[10, 3, 40], sigma=counts_std, absolute_sigma=True)\n",
    "I_e, n, R_half = kd"
   ]
  },
  {
   "cell_type": "markdown",
   "metadata": {},
   "source": [
    "Убедимся, что все фитируется как надо."
   ]
  },
  {
   "cell_type": "code",
   "execution_count": null,
   "metadata": {},
   "outputs": [],
   "source": [
    "plt.close()\n",
    "plt.figure(figsize=(10, 10))\n",
    "\n",
    "plt.scatter(distance, data_filtered, s=3, label='Raw points')\n",
    "plt.errorbar(distances, counts, counts_std, 0, color='black', fmt='.', label='Radial profile')\n",
    "\n",
    "x_sers = np.geomspace(1, 100, 1000)\n",
    "plt.plot(x_sers, sers(x_sers, I_e, n, R_half), color='red', label='Sersic profile')\n",
    "\n",
    "plt.xscale('log')\n",
    "plt.yscale('log')\n",
    "\n",
    "plt.xlabel('Distance, arcsec')\n",
    "plt.ylabel('Counts')\n",
    "\n",
    "plt.legend()\n",
    "\n",
    "plt.show()"
   ]
  },
  {
   "cell_type": "markdown",
   "metadata": {},
   "source": [
    "#### **_Часть 4. Дисперсия радиальных скоростей и финал наших страданий._**\n",
    "\n",
    "Мы получили модель, которая неплохо описывает радиальный профиль излучения галактики,\\\n",
    "теперь все, что нам нужно для оценки массы - это профиль дисперсии скоростей.\n",
    "\n",
    "Этот практикум рассчитан на 2 занятия, поэтому, если вы дошли сюда на первом, вы молодцы, но больше\\\n",
    "тут еще ничего нет. Приходите на следующей неделе для теоретической справки и окончания нашей работы."
   ]
  }
 ],
 "metadata": {
  "kernelspec": {
   "display_name": "Python 3",
   "language": "python",
   "name": "python3"
  },
  "language_info": {
   "codemirror_mode": {
    "name": "ipython",
    "version": 3
   },
   "file_extension": ".py",
   "mimetype": "text/x-python",
   "name": "python",
   "nbconvert_exporter": "python",
   "pygments_lexer": "ipython3",
   "version": "3.9.7"
  }
 },
 "nbformat": 4,
 "nbformat_minor": 2
}
